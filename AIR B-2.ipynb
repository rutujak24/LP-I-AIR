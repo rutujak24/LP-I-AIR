{
 "cells": [
  {
   "cell_type": "code",
   "execution_count": 3,
   "metadata": {},
   "outputs": [
    {
     "name": "stdout",
     "output_type": "stream",
     "text": [
      "Collecting nltk\n",
      "Collecting regex (from nltk)\n",
      "  Downloading https://files.pythonhosted.org/packages/a0/10/8ee669534868d7f07008a0e991c4ce975da6c2fb410fccfeeacf8618860a/regex-2020.10.11-cp36-cp36m-manylinux1_x86_64.whl (662kB)\n",
      "\u001b[K    100% |████████████████████████████████| 665kB 1.3MB/s eta 0:00:01\n",
      "\u001b[?25hCollecting click (from nltk)\n",
      "  Using cached https://files.pythonhosted.org/packages/d2/3d/fa76db83bf75c4f8d338c2fd15c8d33fdd7ad23a9b5e57eb6c5de26b430e/click-7.1.2-py2.py3-none-any.whl\n",
      "Collecting joblib (from nltk)\n",
      "  Using cached https://files.pythonhosted.org/packages/fc/c9/f58220ac44a1592f79a343caba12f6837f9e0c04c196176a3d66338e1ea8/joblib-0.17.0-py3-none-any.whl\n",
      "Collecting tqdm (from nltk)\n",
      "  Downloading https://files.pythonhosted.org/packages/bd/cf/f91813073e4135c1183cadf968256764a6fe4e35c351d596d527c0540461/tqdm-4.50.2-py2.py3-none-any.whl (70kB)\n",
      "\u001b[K    100% |████████████████████████████████| 71kB 506kB/s eta 0:00:01\n",
      "\u001b[?25hInstalling collected packages: regex, click, joblib, tqdm, nltk\n",
      "Successfully installed click-7.1.2 joblib-0.17.0 nltk-3.5 regex-2020.10.11 tqdm-4.50.2\n"
     ]
    }
   ],
   "source": [
    "!pip3 install nltk.chat.util"
   ]
  },
  {
   "cell_type": "code",
   "execution_count": 1,
   "metadata": {},
   "outputs": [],
   "source": [
    "from nltk.chat.util import Chat,reflections"
   ]
  },
  {
   "cell_type": "code",
   "execution_count": 3,
   "metadata": {},
   "outputs": [
    {
     "name": "stdout",
     "output_type": "stream",
     "text": [
      "Hi how can I help you today?\n",
      ">My name is Sachin\n",
      "Hello sachin, How are you today ?\n",
      ">Where do I invest?\n",
      "Yes,Ofcourse.Basically there are many options to invest.Regional or Investment bank?\n",
      ">What are the investment options for me?\n",
      "Well there are many such as UBS,Barclays,Deutsche bank,HSBC,Wells Fargo etc\n",
      ">What is the difference between stock and share?\n",
      "“Shares” are the ownership certificates of a specific company.Owning stock, on the other hand, is a more general term that means you own a number of shares in a company or multiple companies.\n",
      ">quit\n",
      "BBye take care. See you soon :) \n"
     ]
    }
   ],
   "source": [
    "pairs = [\n",
    "    [\n",
    "        r\"my name is (.*)\",\n",
    "        [\"Hello %1, How are you today ?\",]\n",
    "    ],\n",
    "     [\n",
    "        r\"what is your name ?\",\n",
    "        [\"My name is Chatty and I'm a chatbot ?\",]\n",
    "    ],\n",
    "    [\n",
    "        r\"how are you ?\",\n",
    "        [\"I'm doing good\\nHow about You ?\",]\n",
    "    ],\n",
    "    [\n",
    "        r\"(.*) sorry (.*)\",\n",
    "        [\"Its alright\",\"Its OK, never mind\",]\n",
    "    ],\n",
    "    [\n",
    "        r\"(.*) thank you (.*)\",\n",
    "        [\"You're Welcome\",]\n",
    "    ],\n",
    "    [\n",
    "        r\"i'm (.*) doing good\",\n",
    "        [\"Nice to hear that\",\"Alright :)\",]\n",
    "    ],\n",
    "    [\n",
    "        r\"hi|hey|hello\",\n",
    "        [\"Hello\", \"Hey there\",]\n",
    "    ],\n",
    "    [\n",
    "        r\"where(.*) invest?\",\n",
    "        [\"Yes,Ofcourse.Basically there are many options to invest.Regional or Investment bank?\",]\n",
    "        \n",
    "    ],\n",
    "    [\n",
    "        r\"(.*) investment (.*) ?\",\n",
    "        [\"Well there are many such as UBS,Barclays,Deutsche bank,HSBC,Wells Fargo etc\",]\n",
    "    ],\n",
    "    [\n",
    "        r\"(.*) regional (.*) ?\",\n",
    "        [\"There are many such banks SBI,IDBI,Kotak Mahindra \\n eg. SBI offers 10% etc\",]\n",
    "    ],\n",
    "    \n",
    "    [\n",
    "        r\"which type of loans (.*)?\",\n",
    "        [\"Housing ,Personal,Educational.I recommend to visit SBI banks for this\",]\n",
    "        \n",
    "    ],\n",
    "    \n",
    "    [\n",
    "        r\"(.*)difference (.*) stock (.*) share ?\",\n",
    "        [\"“Shares” are the ownership certificates of a specific company.Owning stock, on the other hand, is a more general term that means you own a number of shares in a company or multiple companies.\",]\n",
    "    ],\n",
    "    [\n",
    "        r\"(.*)bond?\",\n",
    "        [\"Bonds are issued by companies, states and governments (in both the U.S. and abroad) to help finance various projects.\"]\n",
    "    ],\n",
    "    [\n",
    "        r\"(.*)mutual funds?\",\n",
    "        [\"%1 is an Amazing company, I have heard about it. But they are in huge loss these days.\",]\n",
    "    ],\n",
    "    [\n",
    "        r\"what if (.*) money back(.*)\",\n",
    "        [\"You always have the option to sell your investments and transfer the proceeds out of your investment account. It’s important to remember, though, that there will likely be tax consequences for doing so.\\nAside from the tax considerations, there is also the chance that the value of your investment is temporarily down. Short-term price fluctuations are common when investing, but if you choose to sell at that moment, you lock in those losses rather than holding the investment with the hope that the price will rebound. Take a close look at your shares’ value before you decide whether to pull the trigger.\",]\n",
    "    ],\n",
    "    [\n",
    "        r\"how (.*) money(.*) invest\",\n",
    "        [\"It's good to invest around 30% of income.\",]\n",
    "    ],\n",
    "    \n",
    "    [\n",
    "        r\"quit\",\n",
    "        [\"BBye take care. See you soon :) \",\"It was nice talking to you. See you soon :)\"]\n",
    "],\n",
    "]\n",
    "\n",
    "def chatty():\n",
    "    print(\"Hi how can I help you today?\")\n",
    "    chat = Chat(pairs, reflections)\n",
    "    chat.converse()\n",
    "\n",
    "if __name__ == \"__main__\":\n",
    "    chatty()"
   ]
  },
  {
   "cell_type": "code",
   "execution_count": null,
   "metadata": {},
   "outputs": [],
   "source": []
  }
 ],
 "metadata": {
  "kernelspec": {
   "display_name": "Python 3",
   "language": "python",
   "name": "python3"
  },
  "language_info": {
   "codemirror_mode": {
    "name": "ipython",
    "version": 3
   },
   "file_extension": ".py",
   "mimetype": "text/x-python",
   "name": "python",
   "nbconvert_exporter": "python",
   "pygments_lexer": "ipython3",
   "version": "3.8.3"
  }
 },
 "nbformat": 4,
 "nbformat_minor": 4
}
